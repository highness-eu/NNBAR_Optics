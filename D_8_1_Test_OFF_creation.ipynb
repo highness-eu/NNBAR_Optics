{
 "cells": [
  {
   "cell_type": "markdown",
   "id": "6fb82f9f",
   "metadata": {},
   "source": [
    "# Notebook to test functionality of OFF file creation functions\n",
    "\n",
    "This notbook serves to test the python functions for the  \n",
    "**D8.1 Deliverable for HighNESS Project**   \n",
    "('McStas components for single nested mirror-bank and general-purpose Wolter optic')\n",
    "    \n",
    "\n",
    "Version 1, 21.09.2021   \n",
    "Author: Richard Wagner"
   ]
  },
  {
   "cell_type": "code",
   "execution_count": 1,
   "id": "3d8e4e08",
   "metadata": {},
   "outputs": [],
   "source": [
    "from OFF_creation import *"
   ]
  },
  {
   "cell_type": "markdown",
   "id": "11b49e5d",
   "metadata": {
    "tags": []
   },
   "source": [
    "## Example - Create Array of minor (short) half axes b_n\n",
    "half axes fulfill nested criteria"
   ]
  },
  {
   "cell_type": "code",
   "execution_count": 2,
   "id": "26ce42e8",
   "metadata": {
    "tags": []
   },
   "outputs": [
    {
     "data": {
      "text/plain": [
       "(array([1.5       , 1.03234274, 0.51625928, 0.25814064, 0.12907169,\n",
       "        0.06453602, 0.03226803], dtype=float128),\n",
       " {'z_start': 10,\n",
       "  'l': 10,\n",
       "  'L': 200,\n",
       "  'b_0': (),\n",
       "  'b_1': 1.5,\n",
       "  'nb_levels': 8,\n",
       "  'opticHalfWidth': 2,\n",
       "  'bProtectSpacing': True,\n",
       "  'minSpacing': 0.01,\n",
       "  'bAdd': True,\n",
       "  'bGetParamOnly': False,\n",
       "  'bVerbose': False,\n",
       "  'bWarnLimit': True})"
      ]
     },
     "execution_count": 2,
     "metadata": {},
     "output_type": "execute_result"
    }
   ],
   "source": [
    "createShortHalfAxisArray(z_start = 10, l = 10, L = 200, b_0 = (), b_1 = 1.5, nb_levels = 8, opticHalfWidth = 2, bProtectSpacing = True, minSpacing = 1E-2)"
   ]
  },
  {
   "cell_type": "markdown",
   "id": "604f7f7c",
   "metadata": {
    "tags": []
   },
   "source": [
    "## Example - Create OFF File for Mono Planar nested Optic"
   ]
  },
  {
   "cell_type": "code",
   "execution_count": 3,
   "id": "1692b649",
   "metadata": {},
   "outputs": [
    {
     "name": "stdout",
     "output_type": "stream",
     "text": [
      "Warning : distance between consecutives levels was less than 1.0e-02m. Faulty levels will be deleted. 3 levels have been deleted.\n"
     ]
    },
    {
     "data": {
      "text/plain": [
       "{'L': 200,\n",
       " 'l': 10,\n",
       " 'z_start': 16.5,\n",
       " 'opticHalfWidth': 2,\n",
       " 'b_array': array([2.94805702, 2.26179132, 1.40879217, 0.87729513, 0.54627   ,\n",
       "        0.34013753, 0.21178547, 0.13186684, 0.08210587, 0.05112255,\n",
       "        0.03183103, 0.01234033], dtype=float128),\n",
       " 'nb_segments': 15,\n",
       " 'alphaRad': 0,\n",
       " 'axis': 'x',\n",
       " 'RC': matrix([[ 0.  ],\n",
       "         [-0.28],\n",
       "         [ 0.  ]], dtype=float128),\n",
       " 'T': matrix([[0.],\n",
       "         [0.],\n",
       "         [0.]], dtype=float128),\n",
       " 'bHorizontal': True,\n",
       " 'bBoundingBox': False,\n",
       " 'filename': 'exampleMono.off',\n",
       " 'bGetParamOnly': False,\n",
       " 'bVerbose': True}"
      ]
     },
     "execution_count": 3,
     "metadata": {},
     "output_type": "execute_result"
    }
   ],
   "source": [
    "createMonoPlanarNestedOFFwArray(bHorizontal = True, L = 200, b_array = createShortHalfAxisArray(z_start = 16.5, l = 10, L = 200, b_0 = (), \n",
    "                                b_1 = 'limit', nb_levels = 15, opticHalfWidth = 2, minSpacing = 1E-2, bProtectSpacing = True, \n",
    "                                bVerbose = True)[0], z_start = 16.5, l = 10, nb_segments = 15, \n",
    "                                filename='exampleMono.off', opticHalfWidth = 2, bBoundingBox = False, bVerbose = True)"
   ]
  },
  {
   "cell_type": "markdown",
   "id": "bf0204b8",
   "metadata": {
    "tags": []
   },
   "source": [
    "## Example - Create OFF File for Double Planar nested Optic"
   ]
  },
  {
   "cell_type": "code",
   "execution_count": 4,
   "id": "1ca4d965",
   "metadata": {},
   "outputs": [
    {
     "data": {
      "text/plain": [
       "{'L': 200,\n",
       " 'l': 10,\n",
       " 'z_start': 10,\n",
       " 'opticHalfWidth': 1.2004264203039577679,\n",
       " 'b_array': array([2. , 1. , 0.5]),\n",
       " 'nb_segments': 15,\n",
       " 'bBoundingBox': False,\n",
       " 'filename': 'exampleDoublePlanarFull.off',\n",
       " 'bGetParamOnly': False,\n",
       " 'bVerbose': True}"
      ]
     },
     "execution_count": 4,
     "metadata": {},
     "output_type": "execute_result"
    }
   ],
   "source": [
    "createSimpleDoublePlanarNestedOFFwArray(L = 200, b_array = np.array([2.,1.,.5]), z_start = 10, \n",
    "                                        l = 10, nb_segments = 15, filename='exampleDoublePlanarSimple.off', \n",
    "                                        opticHalfWidth = 0, bBoundingBox = False)\n",
    "\n",
    "createSimpleDoublePlanarNestedOFFwArray(L = 200, b_array = np.array([2.,1.,.5]), z_start = 10, \n",
    "                                        l = 10, nb_segments = 15, filename='exampleDoublePlanarFull.off', \n",
    "                                        opticHalfWidth = 0, bBoundingBox = False)\n"
   ]
  },
  {
   "cell_type": "markdown",
   "id": "fc7b4a4a",
   "metadata": {
    "tags": []
   },
   "source": [
    "## Example - Create OFF File for Toroidal nested Optic"
   ]
  },
  {
   "cell_type": "code",
   "execution_count": 5,
   "id": "8b72259f",
   "metadata": {},
   "outputs": [
    {
     "name": "stdout",
     "output_type": "stream",
     "text": [
      "Warning : distance between consecutives levels was less than 1.0e-02m. Faulty levels will be deleted. 8 levels have been deleted.\n"
     ]
    },
    {
     "data": {
      "text/plain": [
       "{'L': 200,\n",
       " 'l': 10,\n",
       " 'z_start': 16.5,\n",
       " 'opticHalfWidth': 2,\n",
       " 'b_array': array([2.94805702, 2.26179132, 1.40879217, 0.87729513, 0.54627   ,\n",
       "        0.34013753, 0.21178547, 0.13186684, 0.08210587, 0.05112255,\n",
       "        0.03183103, 0.01234033], dtype=float128),\n",
       " 'nb_segments': 10,\n",
       " 'nb_segments_T': 50,\n",
       " 'bBoundingBox': False,\n",
       " 'filename': 'exampleToroidal.off',\n",
       " 'RC': matrix([[ 0.  ],\n",
       "         [-0.28],\n",
       "         [ 0.  ]], dtype=float128),\n",
       " 'alphaRad': 0,\n",
       " 'axis': 'x',\n",
       " 'T': matrix([[0.],\n",
       "         [0.],\n",
       "         [0.]], dtype=float128),\n",
       " 'bGetParamOnly': False,\n",
       " 'bVerbose': True}"
      ]
     },
     "execution_count": 5,
     "metadata": {},
     "output_type": "execute_result"
    }
   ],
   "source": [
    "createToroidalNestedOFFwArray(L = 200, b_array = createShortHalfAxisArray(z_start = 16.5, l = 10, L = 200, b_0 = (), \n",
    "                              b_1 = 'limit', nb_levels = 20, opticHalfWidth = 2, minSpacing = 1E-2, bProtectSpacing = True, bVerbose = True)[0], \n",
    "                              z_start = 16.5, l = 10, nb_segments = 10, filename='exampleToroidal.off', \n",
    "                              opticHalfWidth = 2, bBoundingBox = False, bVerbose = True)"
   ]
  },
  {
   "cell_type": "markdown",
   "id": "017681f7",
   "metadata": {
    "tags": []
   },
   "source": [
    "## Example - Create a Wolter Optic Consisting of two Mono Planar sections\n",
    "The parameters (b_array, L  etc.) have been calculated manually"
   ]
  },
  {
   "cell_type": "code",
   "execution_count": 6,
   "id": "61e3b00d",
   "metadata": {},
   "outputs": [
    {
     "data": {
      "text/plain": [
       "{'L': 242.72,\n",
       " 'l': 20,\n",
       " 'z_start': 72.72,\n",
       " 'opticHalfWidth': 2,\n",
       " 'b_array': array([2.18, 1.09, 0.54]),\n",
       " 'nb_segments': 20,\n",
       " 'alphaRad': 0,\n",
       " 'axis': 'x',\n",
       " 'RC': matrix([[ 0.  ],\n",
       "         [-0.28],\n",
       "         [ 0.  ]], dtype=float128),\n",
       " 'T': matrix([[ 0],\n",
       "         [ 0],\n",
       "         [20]]),\n",
       " 'bHorizontal': False,\n",
       " 'bBoundingBox': False,\n",
       " 'filename': 'exampleWolterEllipMono.off',\n",
       " 'bGetParamOnly': False,\n",
       " 'bVerbose': True}"
      ]
     },
     "execution_count": 6,
     "metadata": {},
     "output_type": "execute_result"
    }
   ],
   "source": [
    "#Hyperbolic Part For Wolter option L == a_h long half-axis of Hyperbola\n",
    "createMonoPlanarNestedOFFwArray(bHorizontal = False, L = 21, b_array = np.array([0.91,0.45,0.22]), z_start = 10, l = 20, nb_segments = 20, \n",
    "                                filename='exampleWolterHyperbolaMono.off', opticHalfWidth = 2, bBoundingBox = False, \n",
    "                                bWolter = True, bVerbose = True)\n",
    "\n",
    "#Elliptic Part - Translate 20m to beginning of End of Hypebola !!\n",
    "createMonoPlanarNestedOFFwArray(bHorizontal = False, L = 242.72, b_array = np.array([2.18, 1.09, 0.54]), z_start = 72.72, l = 20, nb_segments = 20, \n",
    "                                filename='exampleWolterEllipMono.off', opticHalfWidth = 2, bBoundingBox = False, T = np.matrix([0,0,20]), \n",
    "                                bWolter = False, bVerbose = True)\n"
   ]
  },
  {
   "cell_type": "markdown",
   "id": "12c4bc25",
   "metadata": {},
   "source": [
    "## Example - Create a Wolter Optic Consisting of two Toroidal sections\n",
    "The parameters (b_array, L  etc.) have been calculated manually"
   ]
  },
  {
   "cell_type": "code",
   "execution_count": 7,
   "id": "afb5ac45",
   "metadata": {},
   "outputs": [
    {
     "data": {
      "text/plain": [
       "{'L': 242.72,\n",
       " 'l': 20,\n",
       " 'z_start': 72.72,\n",
       " 'opticHalfWidth': 3,\n",
       " 'b_array': array([2.18, 1.09, 0.54]),\n",
       " 'nb_segments': 20,\n",
       " 'nb_segments_T': 50,\n",
       " 'bBoundingBox': False,\n",
       " 'filename': 'exampleWolterEllipToro.off',\n",
       " 'RC': matrix([[ 0.  ],\n",
       "         [-0.28],\n",
       "         [ 0.  ]], dtype=float128),\n",
       " 'alphaRad': 0,\n",
       " 'axis': 'x',\n",
       " 'T': matrix([[ 0],\n",
       "         [ 0],\n",
       "         [20]]),\n",
       " 'bGetParamOnly': False,\n",
       " 'bVerbose': True}"
      ]
     },
     "execution_count": 7,
     "metadata": {},
     "output_type": "execute_result"
    }
   ],
   "source": [
    "#createToroidalNestedOFFwArray(L = 200, b_array = createShortHalfAxisArray(z_start = 16.5, l = 10, L = 200, b_0 = (), \n",
    "#                              b_1 = 'limit', nb_levels = 20, opticHalfWidth = 2, minSpacing = 1E-2, bProtectSpacing = True, bVerbose = True)[0], \n",
    "#                              z_start = 16.5, l = 10, nb_segments = 10, filename='exampleToroidal_test.off', \n",
    "#                              opticHalfWidth = 2, bBoundingBox = False, bVerbose = True)\n",
    "\n",
    "#Hyperbolic Part For Wolter option L == a_h long half-axis of Hyperbola\n",
    "createToroidalNestedOFFwArray(L = 21, b_array = np.array([0.91,0.45,0.22]), z_start = 10, l = 20, nb_segments = 20, \n",
    "                                filename='exampleWolterHyperbolaToro.off', opticHalfWidth = 3, bBoundingBox = False, \n",
    "                                bWolter = True, bVerbose = True)\n",
    "\n",
    "#Elliptic Part - Translate 20m to beginning of End of Hypebola !!\n",
    "createToroidalNestedOFFwArray(L = 242.72, b_array = np.array([2.18, 1.09, 0.54]), z_start = 72.72, l = 20, nb_segments = 20, \n",
    "                                filename='exampleWolterEllipToro.off', opticHalfWidth = 3, bBoundingBox = False, T = np.matrix([0,0,20]), \n",
    "                                bWolter = False, bVerbose = True)\n"
   ]
  },
  {
   "cell_type": "markdown",
   "id": "ba91d710",
   "metadata": {
    "tags": []
   },
   "source": [
    "## Example - Create a Wolter Optic Consisting of two Double Planar sections\n",
    "The parameters (b_array, L  etc.) have been calculated manually"
   ]
  },
  {
   "cell_type": "code",
   "execution_count": 8,
   "id": "7563e5d2",
   "metadata": {},
   "outputs": [
    {
     "data": {
      "text/plain": [
       "{'L': 242.72,\n",
       " 'l': 20,\n",
       " 'z_start': 72.72,\n",
       " 'opticHalfWidth': 3,\n",
       " 'b_array': array([2.18, 1.09, 0.54]),\n",
       " 'nb_segments': 20,\n",
       " 'alphaRad': 0,\n",
       " 'axis': 'x',\n",
       " 'RC': matrix([[ 0.  ],\n",
       "         [-0.28],\n",
       "         [ 0.  ]], dtype=float128),\n",
       " 'T': matrix([[ 0],\n",
       "         [ 0],\n",
       "         [20]]),\n",
       " 'bBoundingBox': False,\n",
       " 'filename': 'exampleWolterEllipDoublePlanar.off',\n",
       " 'bGetParamOnly': False,\n",
       " 'bVerbose': True}"
      ]
     },
     "execution_count": 8,
     "metadata": {},
     "output_type": "execute_result"
    }
   ],
   "source": [
    "#Hyperbolic Part For Wolter option L == a_h long half-axis of Hyperbola\n",
    "createDoublePlanarNestedOFFwArray(L = 21, b_array = np.array([0.91,0.45,0.22]), z_start = 10, l = 20, nb_segments = 20, \n",
    "                                filename='exampleWolterHyperbolaDoublePlanar.off', opticHalfWidth = 3, bBoundingBox = False, \n",
    "                                bWolter = True, bVerbose = True)\n",
    "\n",
    "#Elliptic Part - Translate 20m to beginning of End of Hypebola !!\n",
    "createDoublePlanarNestedOFFwArray(L = 242.72, b_array = np.array([2.18, 1.09, 0.54]), z_start = 72.72, l = 20, nb_segments = 20, \n",
    "                                filename='exampleWolterEllipDoublePlanar.off', opticHalfWidth = 3, bBoundingBox = False, T = np.matrix([0,0,20]), \n",
    "                                bWolter = False, bVerbose = True)"
   ]
  },
  {
   "cell_type": "markdown",
   "id": "29637586",
   "metadata": {},
   "source": [
    "## Example - Create a Wolter Optic Consisting of two Double Planar sections \n",
    "Created by Simple-Algorithm\n",
    "\n",
    "The parameters (b_array, L  etc.) have been calculated manually"
   ]
  },
  {
   "cell_type": "code",
   "execution_count": 9,
   "id": "98cfffa2",
   "metadata": {},
   "outputs": [
    {
     "data": {
      "text/plain": [
       "{'L': 242.72,\n",
       " 'l': 20,\n",
       " 'z_start': 72.72,\n",
       " 'opticHalfWidth': 3,\n",
       " 'b_array': array([2.18, 1.09, 0.54]),\n",
       " 'nb_segments': 20,\n",
       " 'bBoundingBox': False,\n",
       " 'filename': 'exampleWolterEllipDoublePlanarSimple.off',\n",
       " 'bGetParamOnly': False,\n",
       " 'bVerbose': True}"
      ]
     },
     "execution_count": 9,
     "metadata": {},
     "output_type": "execute_result"
    }
   ],
   "source": [
    "#Hyperbolic Part For Wolter option L == a_h long half-axis of Hyperbola\n",
    "createSimpleDoublePlanarNestedOFFwArray(L = 21, b_array = #np.array([0.91]),\n",
    "                                        np.array([0.91,0.45,0.22]), \n",
    "                                        z_start = 10, l = 20, nb_segments = 20, \n",
    "                                filename='exampleWolterHyperbolaDoublePlanarSimple.off', opticHalfWidth = 3, bBoundingBox = False, \n",
    "                                bWolter = True, bVerbose = True)\n",
    "\n",
    "#Elliptic Part - Translate 20m to beginning of End of Hypebola !!\n",
    "createSimpleDoublePlanarNestedOFFwArray(L = 242.72, b_array = np.array([2.18, 1.09, 0.54]), z_start = 72.72, l = 20, nb_segments = 20, \n",
    "                                filename='exampleWolterEllipDoublePlanarSimple.off', opticHalfWidth = 3, bBoundingBox = False, #T = np.matrix([0,0,20]), \n",
    "                                bWolter = False, bVerbose = True,  fOffsetOrigin = 20)\n"
   ]
  }
 ],
 "metadata": {
  "kernelspec": {
   "display_name": "Python 3",
   "language": "python",
   "name": "python3"
  },
  "language_info": {
   "codemirror_mode": {
    "name": "ipython",
    "version": 3
   },
   "file_extension": ".py",
   "mimetype": "text/x-python",
   "name": "python",
   "nbconvert_exporter": "python",
   "pygments_lexer": "ipython3",
   "version": "3.9.6"
  }
 },
 "nbformat": 4,
 "nbformat_minor": 5
}
